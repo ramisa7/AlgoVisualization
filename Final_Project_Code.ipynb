{
  "nbformat": 4,
  "nbformat_minor": 0,
  "metadata": {
    "colab": {
      "provenance": [],
      "include_colab_link": true
    },
    "kernelspec": {
      "name": "python3",
      "display_name": "Python 3"
    },
    "accelerator": "GPU"
  },
  "cells": [
    {
      "cell_type": "markdown",
      "metadata": {
        "id": "view-in-github",
        "colab_type": "text"
      },
      "source": [
        "<a href=\"https://colab.research.google.com/github/ramisa7/AlgoVisualization/blob/main/Final_Project_Code.ipynb\" target=\"_parent\"><img src=\"https://colab.research.google.com/assets/colab-badge.svg\" alt=\"Open In Colab\"/></a>"
      ]
    },
    {
      "cell_type": "markdown",
      "metadata": {
        "id": "jzRKNe1iSlNW"
      },
      "source": [
        "### Final Project Code\n",
        "This is the final project notebook file for COMSC 341-CV Computer Vision.\n",
        "* ***Project Title***:\n",
        "<font color='MediumSeaGreen'>TODO: Give the project a name!</font>\n",
        "\n",
        "* ***Project Description***:\n",
        "<font color='MediumSeaGreen'>TODO: Please include the use instructions and expected behavior of the program.</font>\n",
        "\n",
        "* ***Team Name***:\n",
        "<font color='MediumSeaGreen'>TODO: Give your group a name!</font>\n",
        "\n",
        "* ***Group Members***:\n",
        "<font color='MediumSeaGreen'>TODO: Please add name and email addresses for each team member.</font>\n",
        "\n",
        "* ***Credit***: See below for a list of reference code our group uses.\n",
        "> <font color='MediumSeaGreen'>1. TODO: Add URL or source ...</font>\n",
        "\n",
        "\n",
        "\n",
        "\n",
        "\n",
        "`ver. 111223`"
      ]
    },
    {
      "cell_type": "code",
      "source": [
        "# Start Final Project Code here :)"
      ],
      "metadata": {
        "id": "nQQNG8iQJgfm"
      },
      "execution_count": null,
      "outputs": []
    },
    {
      "cell_type": "markdown",
      "source": [],
      "metadata": {
        "id": "BWmmIaGNLgDz"
      }
    }
  ]
}